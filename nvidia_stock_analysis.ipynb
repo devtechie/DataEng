{
 "cells": [
  {
   "cell_type": "markdown",
   "id": "be071f87-b7f1-4819-bc18-ebafc93e240c",
   "metadata": {},
   "source": [
    "# Import All Libraries"
   ]
  },
  {
   "cell_type": "code",
   "execution_count": 404,
   "id": "3866b9b1-bab7-4a60-a207-a0cff47c82a4",
   "metadata": {},
   "outputs": [],
   "source": [
    "import matplotlib.pyplot as plt\n",
    "import pandas as pd"
   ]
  },
  {
   "cell_type": "code",
   "execution_count": 405,
   "id": "76e0afd3-c7c9-49ee-86b7-92728e3d9755",
   "metadata": {},
   "outputs": [],
   "source": [
    "%matplotlib inline"
   ]
  },
  {
   "cell_type": "markdown",
   "id": "faf5c72a-903a-4adf-9888-7bada46cf6d5",
   "metadata": {},
   "source": [
    "# Import the dataset\n",
    "### This dataset is downloaded from Kaggle (link provided above)"
   ]
  },
  {
   "cell_type": "code",
   "execution_count": 407,
   "id": "2fafc694-363b-4d22-aa6e-5f3dc25ee22b",
   "metadata": {},
   "outputs": [
    {
     "data": {
      "text/html": [
       "<div>\n",
       "<style scoped>\n",
       "    .dataframe tbody tr th:only-of-type {\n",
       "        vertical-align: middle;\n",
       "    }\n",
       "\n",
       "    .dataframe tbody tr th {\n",
       "        vertical-align: top;\n",
       "    }\n",
       "\n",
       "    .dataframe thead th {\n",
       "        text-align: right;\n",
       "    }\n",
       "</style>\n",
       "<table border=\"1\" class=\"dataframe\">\n",
       "  <thead>\n",
       "    <tr style=\"text-align: right;\">\n",
       "      <th></th>\n",
       "      <th>Date</th>\n",
       "      <th>Open</th>\n",
       "      <th>High</th>\n",
       "      <th>Low</th>\n",
       "      <th>Close</th>\n",
       "      <th>Adj Close</th>\n",
       "      <th>Volume</th>\n",
       "    </tr>\n",
       "  </thead>\n",
       "  <tbody>\n",
       "    <tr>\n",
       "      <th>0</th>\n",
       "      <td>2019-05-23</td>\n",
       "      <td>37.422501</td>\n",
       "      <td>37.422501</td>\n",
       "      <td>36.227501</td>\n",
       "      <td>36.830002</td>\n",
       "      <td>36.579872</td>\n",
       "      <td>59184400</td>\n",
       "    </tr>\n",
       "    <tr>\n",
       "      <th>1</th>\n",
       "      <td>2019-05-24</td>\n",
       "      <td>37.020000</td>\n",
       "      <td>37.375000</td>\n",
       "      <td>36.220001</td>\n",
       "      <td>36.287498</td>\n",
       "      <td>36.041054</td>\n",
       "      <td>35758400</td>\n",
       "    </tr>\n",
       "    <tr>\n",
       "      <th>2</th>\n",
       "      <td>2019-05-28</td>\n",
       "      <td>36.465000</td>\n",
       "      <td>36.794998</td>\n",
       "      <td>35.812500</td>\n",
       "      <td>35.832500</td>\n",
       "      <td>35.589134</td>\n",
       "      <td>42835600</td>\n",
       "    </tr>\n",
       "    <tr>\n",
       "      <th>3</th>\n",
       "      <td>2019-05-29</td>\n",
       "      <td>35.352501</td>\n",
       "      <td>35.705002</td>\n",
       "      <td>34.735001</td>\n",
       "      <td>35.084999</td>\n",
       "      <td>34.846722</td>\n",
       "      <td>55980000</td>\n",
       "    </tr>\n",
       "    <tr>\n",
       "      <th>4</th>\n",
       "      <td>2019-05-30</td>\n",
       "      <td>35.077499</td>\n",
       "      <td>35.437500</td>\n",
       "      <td>34.392502</td>\n",
       "      <td>34.777500</td>\n",
       "      <td>34.580738</td>\n",
       "      <td>39430000</td>\n",
       "    </tr>\n",
       "  </tbody>\n",
       "</table>\n",
       "</div>"
      ],
      "text/plain": [
       "         Date       Open       High        Low      Close  Adj Close    Volume\n",
       "0  2019-05-23  37.422501  37.422501  36.227501  36.830002  36.579872  59184400\n",
       "1  2019-05-24  37.020000  37.375000  36.220001  36.287498  36.041054  35758400\n",
       "2  2019-05-28  36.465000  36.794998  35.812500  35.832500  35.589134  42835600\n",
       "3  2019-05-29  35.352501  35.705002  34.735001  35.084999  34.846722  55980000\n",
       "4  2019-05-30  35.077499  35.437500  34.392502  34.777500  34.580738  39430000"
      ]
     },
     "execution_count": 407,
     "metadata": {},
     "output_type": "execute_result"
    }
   ],
   "source": [
    "data = r'/Users/Downloads/NVDA(2).csv' # Use the path on your machine \n",
    "df_nvda_stock_data = pd.read_csv(data)\n",
    "df_nvda_stock_data.head()"
   ]
  },
  {
   "cell_type": "markdown",
   "id": "4e15f472-be78-4b08-967e-04888ae201c3",
   "metadata": {},
   "source": [
    "# Check dataframe columns"
   ]
  },
  {
   "cell_type": "code",
   "execution_count": 409,
   "id": "7024f6dc-5c83-44cb-abb1-b9e1dade8c5c",
   "metadata": {},
   "outputs": [
    {
     "data": {
      "text/plain": [
       "Index(['Date', 'Open', 'High', 'Low', 'Close', 'Adj Close', 'Volume'], dtype='object')"
      ]
     },
     "execution_count": 409,
     "metadata": {},
     "output_type": "execute_result"
    }
   ],
   "source": [
    "df_nvda_stock_data.columns"
   ]
  },
  {
   "cell_type": "markdown",
   "id": "48c4fd48-a295-453f-bdd7-a26c36d88342",
   "metadata": {},
   "source": [
    "# Create Year and Month Column"
   ]
  },
  {
   "cell_type": "code",
   "execution_count": 411,
   "id": "7078917d-f29d-437d-8714-389b41f91c27",
   "metadata": {},
   "outputs": [
    {
     "data": {
      "text/html": [
       "<div>\n",
       "<style scoped>\n",
       "    .dataframe tbody tr th:only-of-type {\n",
       "        vertical-align: middle;\n",
       "    }\n",
       "\n",
       "    .dataframe tbody tr th {\n",
       "        vertical-align: top;\n",
       "    }\n",
       "\n",
       "    .dataframe thead th {\n",
       "        text-align: right;\n",
       "    }\n",
       "</style>\n",
       "<table border=\"1\" class=\"dataframe\">\n",
       "  <thead>\n",
       "    <tr style=\"text-align: right;\">\n",
       "      <th></th>\n",
       "      <th>Date</th>\n",
       "      <th>Open</th>\n",
       "      <th>High</th>\n",
       "      <th>Low</th>\n",
       "      <th>Close</th>\n",
       "      <th>Adj Close</th>\n",
       "      <th>Volume</th>\n",
       "      <th>Year</th>\n",
       "      <th>Month</th>\n",
       "    </tr>\n",
       "  </thead>\n",
       "  <tbody>\n",
       "    <tr>\n",
       "      <th>0</th>\n",
       "      <td>2019-05-23</td>\n",
       "      <td>37.422501</td>\n",
       "      <td>37.422501</td>\n",
       "      <td>36.227501</td>\n",
       "      <td>36.830002</td>\n",
       "      <td>36.579872</td>\n",
       "      <td>59184400</td>\n",
       "      <td>2019</td>\n",
       "      <td>5</td>\n",
       "    </tr>\n",
       "    <tr>\n",
       "      <th>1</th>\n",
       "      <td>2019-05-24</td>\n",
       "      <td>37.020000</td>\n",
       "      <td>37.375000</td>\n",
       "      <td>36.220001</td>\n",
       "      <td>36.287498</td>\n",
       "      <td>36.041054</td>\n",
       "      <td>35758400</td>\n",
       "      <td>2019</td>\n",
       "      <td>5</td>\n",
       "    </tr>\n",
       "    <tr>\n",
       "      <th>2</th>\n",
       "      <td>2019-05-28</td>\n",
       "      <td>36.465000</td>\n",
       "      <td>36.794998</td>\n",
       "      <td>35.812500</td>\n",
       "      <td>35.832500</td>\n",
       "      <td>35.589134</td>\n",
       "      <td>42835600</td>\n",
       "      <td>2019</td>\n",
       "      <td>5</td>\n",
       "    </tr>\n",
       "    <tr>\n",
       "      <th>3</th>\n",
       "      <td>2019-05-29</td>\n",
       "      <td>35.352501</td>\n",
       "      <td>35.705002</td>\n",
       "      <td>34.735001</td>\n",
       "      <td>35.084999</td>\n",
       "      <td>34.846722</td>\n",
       "      <td>55980000</td>\n",
       "      <td>2019</td>\n",
       "      <td>5</td>\n",
       "    </tr>\n",
       "    <tr>\n",
       "      <th>4</th>\n",
       "      <td>2019-05-30</td>\n",
       "      <td>35.077499</td>\n",
       "      <td>35.437500</td>\n",
       "      <td>34.392502</td>\n",
       "      <td>34.777500</td>\n",
       "      <td>34.580738</td>\n",
       "      <td>39430000</td>\n",
       "      <td>2019</td>\n",
       "      <td>5</td>\n",
       "    </tr>\n",
       "  </tbody>\n",
       "</table>\n",
       "</div>"
      ],
      "text/plain": [
       "         Date       Open       High        Low      Close  Adj Close  \\\n",
       "0  2019-05-23  37.422501  37.422501  36.227501  36.830002  36.579872   \n",
       "1  2019-05-24  37.020000  37.375000  36.220001  36.287498  36.041054   \n",
       "2  2019-05-28  36.465000  36.794998  35.812500  35.832500  35.589134   \n",
       "3  2019-05-29  35.352501  35.705002  34.735001  35.084999  34.846722   \n",
       "4  2019-05-30  35.077499  35.437500  34.392502  34.777500  34.580738   \n",
       "\n",
       "     Volume  Year  Month  \n",
       "0  59184400  2019      5  \n",
       "1  35758400  2019      5  \n",
       "2  42835600  2019      5  \n",
       "3  55980000  2019      5  \n",
       "4  39430000  2019      5  "
      ]
     },
     "execution_count": 411,
     "metadata": {},
     "output_type": "execute_result"
    }
   ],
   "source": [
    "df_nvda_stock_data['Year'] = pd.to_datetime(df_nvda_stock_data['Date']).dt.year\n",
    "df_nvda_stock_data['Month'] = pd.to_datetime(df_nvda_stock_data['Date']).dt.month\n",
    "df_nvda_stock_data.head()"
   ]
  },
  {
   "cell_type": "markdown",
   "id": "52d2aa87-467d-4417-a566-4d425060fe2f",
   "metadata": {},
   "source": [
    "# Aggregate by Year and Month"
   ]
  },
  {
   "cell_type": "code",
   "execution_count": 413,
   "id": "87111bb6-2dfe-4345-8250-097ddf4e2ebd",
   "metadata": {},
   "outputs": [
    {
     "data": {
      "text/html": [
       "<div>\n",
       "<style scoped>\n",
       "    .dataframe tbody tr th:only-of-type {\n",
       "        vertical-align: middle;\n",
       "    }\n",
       "\n",
       "    .dataframe tbody tr th {\n",
       "        vertical-align: top;\n",
       "    }\n",
       "\n",
       "    .dataframe thead th {\n",
       "        text-align: right;\n",
       "    }\n",
       "</style>\n",
       "<table border=\"1\" class=\"dataframe\">\n",
       "  <thead>\n",
       "    <tr style=\"text-align: right;\">\n",
       "      <th></th>\n",
       "      <th>index</th>\n",
       "      <th>Date</th>\n",
       "      <th>Open</th>\n",
       "      <th>High</th>\n",
       "      <th>Low</th>\n",
       "      <th>Close</th>\n",
       "      <th>Adj Close</th>\n",
       "      <th>Volume</th>\n",
       "      <th>Year</th>\n",
       "      <th>Month</th>\n",
       "    </tr>\n",
       "  </thead>\n",
       "  <tbody>\n",
       "    <tr>\n",
       "      <th>0</th>\n",
       "      <td>0</td>\n",
       "      <td>2019-05</td>\n",
       "      <td>37.422501</td>\n",
       "      <td>37.422501</td>\n",
       "      <td>36.227501</td>\n",
       "      <td>36.830002</td>\n",
       "      <td>36.579872</td>\n",
       "      <td>59184400</td>\n",
       "      <td>2019</td>\n",
       "      <td>5</td>\n",
       "    </tr>\n",
       "    <tr>\n",
       "      <th>1</th>\n",
       "      <td>1</td>\n",
       "      <td>2019-05</td>\n",
       "      <td>37.020000</td>\n",
       "      <td>37.375000</td>\n",
       "      <td>36.220001</td>\n",
       "      <td>36.287498</td>\n",
       "      <td>36.041054</td>\n",
       "      <td>35758400</td>\n",
       "      <td>2019</td>\n",
       "      <td>5</td>\n",
       "    </tr>\n",
       "    <tr>\n",
       "      <th>2</th>\n",
       "      <td>2</td>\n",
       "      <td>2019-05</td>\n",
       "      <td>36.465000</td>\n",
       "      <td>36.794998</td>\n",
       "      <td>35.812500</td>\n",
       "      <td>35.832500</td>\n",
       "      <td>35.589134</td>\n",
       "      <td>42835600</td>\n",
       "      <td>2019</td>\n",
       "      <td>5</td>\n",
       "    </tr>\n",
       "    <tr>\n",
       "      <th>3</th>\n",
       "      <td>3</td>\n",
       "      <td>2019-05</td>\n",
       "      <td>35.352501</td>\n",
       "      <td>35.705002</td>\n",
       "      <td>34.735001</td>\n",
       "      <td>35.084999</td>\n",
       "      <td>34.846722</td>\n",
       "      <td>55980000</td>\n",
       "      <td>2019</td>\n",
       "      <td>5</td>\n",
       "    </tr>\n",
       "    <tr>\n",
       "      <th>4</th>\n",
       "      <td>4</td>\n",
       "      <td>2019-05</td>\n",
       "      <td>35.077499</td>\n",
       "      <td>35.437500</td>\n",
       "      <td>34.392502</td>\n",
       "      <td>34.777500</td>\n",
       "      <td>34.580738</td>\n",
       "      <td>39430000</td>\n",
       "      <td>2019</td>\n",
       "      <td>5</td>\n",
       "    </tr>\n",
       "  </tbody>\n",
       "</table>\n",
       "</div>"
      ],
      "text/plain": [
       "   index     Date       Open       High        Low      Close  Adj Close  \\\n",
       "0      0  2019-05  37.422501  37.422501  36.227501  36.830002  36.579872   \n",
       "1      1  2019-05  37.020000  37.375000  36.220001  36.287498  36.041054   \n",
       "2      2  2019-05  36.465000  36.794998  35.812500  35.832500  35.589134   \n",
       "3      3  2019-05  35.352501  35.705002  34.735001  35.084999  34.846722   \n",
       "4      4  2019-05  35.077499  35.437500  34.392502  34.777500  34.580738   \n",
       "\n",
       "     Volume  Year  Month  \n",
       "0  59184400  2019      5  \n",
       "1  35758400  2019      5  \n",
       "2  42835600  2019      5  \n",
       "3  55980000  2019      5  \n",
       "4  39430000  2019      5  "
      ]
     },
     "execution_count": 413,
     "metadata": {},
     "output_type": "execute_result"
    }
   ],
   "source": [
    "df_nvda_stock_data = df_nvda_stock_data.reset_index()\n",
    "df_nvda_stock_data['Date'] = df_nvda_stock_data['Year'].map(str)+ '-' +df_nvda_stock_data['Month'].map(str)\n",
    "df_nvda_stock_data['Date'] = pd.to_datetime(df_nvda_stock_data['Date'], format='%Y-%m').dt.strftime('%Y-%m')\n",
    "df_nvda_stock_data.head()"
   ]
  },
  {
   "cell_type": "code",
   "execution_count": 414,
   "id": "befbad61-f4fc-4644-acdb-bb02a5f5efbd",
   "metadata": {},
   "outputs": [
    {
     "data": {
      "text/html": [
       "<div>\n",
       "<style scoped>\n",
       "    .dataframe tbody tr th:only-of-type {\n",
       "        vertical-align: middle;\n",
       "    }\n",
       "\n",
       "    .dataframe tbody tr th {\n",
       "        vertical-align: top;\n",
       "    }\n",
       "\n",
       "    .dataframe thead th {\n",
       "        text-align: right;\n",
       "    }\n",
       "</style>\n",
       "<table border=\"1\" class=\"dataframe\">\n",
       "  <thead>\n",
       "    <tr style=\"text-align: right;\">\n",
       "      <th></th>\n",
       "      <th>Close</th>\n",
       "    </tr>\n",
       "    <tr>\n",
       "      <th>Date</th>\n",
       "      <th></th>\n",
       "    </tr>\n",
       "  </thead>\n",
       "  <tbody>\n",
       "    <tr>\n",
       "      <th>2019-05</th>\n",
       "      <td>212.677501</td>\n",
       "    </tr>\n",
       "    <tr>\n",
       "      <th>2019-06</th>\n",
       "      <td>748.342494</td>\n",
       "    </tr>\n",
       "    <tr>\n",
       "      <th>2019-07</th>\n",
       "      <td>923.902508</td>\n",
       "    </tr>\n",
       "    <tr>\n",
       "      <th>2019-08</th>\n",
       "      <td>882.064997</td>\n",
       "    </tr>\n",
       "    <tr>\n",
       "      <th>2019-09</th>\n",
       "      <td>886.300001</td>\n",
       "    </tr>\n",
       "  </tbody>\n",
       "</table>\n",
       "</div>"
      ],
      "text/plain": [
       "              Close\n",
       "Date               \n",
       "2019-05  212.677501\n",
       "2019-06  748.342494\n",
       "2019-07  923.902508\n",
       "2019-08  882.064997\n",
       "2019-09  886.300001"
      ]
     },
     "execution_count": 414,
     "metadata": {},
     "output_type": "execute_result"
    }
   ],
   "source": [
    "df_nvda_stock_data_agg = df_nvda_stock_data[['Date', 'Close']].groupby(['Date']).sum()\n",
    "df_nvda_stock_data_agg.head()"
   ]
  },
  {
   "cell_type": "markdown",
   "id": "5ea24c9d-135f-483c-898e-b717732ecf5a",
   "metadata": {},
   "source": [
    "# Check the columns"
   ]
  },
  {
   "cell_type": "code",
   "execution_count": 416,
   "id": "46c2e719-108d-439e-9a49-bcd6da8b323a",
   "metadata": {},
   "outputs": [
    {
     "data": {
      "text/plain": [
       "Index(['Close'], dtype='object')"
      ]
     },
     "execution_count": 416,
     "metadata": {},
     "output_type": "execute_result"
    }
   ],
   "source": [
    "df_nvda_stock_data_agg.columns"
   ]
  },
  {
   "cell_type": "markdown",
   "id": "45d46ba2-a6a7-4499-9b0a-a6a3d8be020b",
   "metadata": {},
   "source": [
    "# Final Analysis"
   ]
  },
  {
   "cell_type": "code",
   "execution_count": 418,
   "id": "d86ef675-f334-4b40-a889-b7bc054cb03c",
   "metadata": {},
   "outputs": [
    {
     "data": {
      "text/plain": [
       "<Axes: xlabel='Date'>"
      ]
     },
     "execution_count": 418,
     "metadata": {},
     "output_type": "execute_result"
    },
    {
     "data": {
      "image/png": "[encoded data removed]",
      "text/plain": [
       "<Figure size 640x480 with 1 Axes>"
      ]
     },
     "metadata": {},
     "output_type": "display_data"
    }
   ],
   "source": [
    "analysis = df_nvda_stock_data_agg.reset_index().plot(x='Date', y='Close'\n",
    "                                 , color = 'b', marker = '*'\n",
    "                  , linestyle = '--'\n",
    "                  , url = 'www.devtechie.com'\n",
    "                  , visible = True\n",
    "                  #, animated = False\n",
    "                  , drawstyle = 'steps-mid'\n",
    "                  , gapcolor = 'r'\n",
    "                  , linewidth = 3\n",
    "                  #, clip_on = False\n",
    "                  , dash_capstyle = 'round'\n",
    "                  , fillstyle = 'full'\n",
    "                  , markeredgecolor = 'y'\n",
    "                  , markeredgewidth = 3\n",
    "                  , markerfacecolor = 'g'\n",
    "                  , markersize = 10\n",
    "                  , markevery = 12\n",
    "                  , mouseover = False )\n",
    "analysis"
   ]
  },
  {
   "cell_type": "code",
   "execution_count": null,
   "id": "a3687d27-c211-4b90-9db5-cdc64ced709c",
   "metadata": {},
   "outputs": [],
   "source": []
  }
 ],
 "metadata": {
  "kernelspec": {
   "display_name": "Python 3 (ipykernel)",
   "language": "python",
   "name": "python3"
  },
  "language_info": {
   "codemirror_mode": {
    "name": "ipython",
    "version": 3
   },
   "file_extension": ".py",
   "mimetype": "text/x-python",
   "name": "python",
   "nbconvert_exporter": "python",
   "pygments_lexer": "ipython3",
   "version": "3.12.4"
  }
 },
 "nbformat": 4,
 "nbformat_minor": 5
}
