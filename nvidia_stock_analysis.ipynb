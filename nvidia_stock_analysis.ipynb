{
 "cells": [
  {
   "cell_type": "markdown",
   "id": "be071f87-b7f1-4819-bc18-ebafc93e240c",
   "metadata": {},
   "source": [
    "# Import All Libraries"
   ]
  },
  {
   "cell_type": "code",
   "execution_count": 5,
   "id": "3866b9b1-bab7-4a60-a207-a0cff47c82a4",
   "metadata": {},
   "outputs": [],
   "source": [
    "import matplotlib.pyplot as plt\n",
    "import pandas as pd"
   ]
  },
  {
   "cell_type": "code",
   "execution_count": 6,
   "id": "76e0afd3-c7c9-49ee-86b7-92728e3d9755",
   "metadata": {},
   "outputs": [],
   "source": [
    "%matplotlib inline"
   ]
  },
  {
   "cell_type": "markdown",
   "id": "faf5c72a-903a-4adf-9888-7bada46cf6d5",
   "metadata": {},
   "source": [
    "# Import the dataset\n",
    "### This dataset is downloaded from Kaggle (link provided above)"
   ]
  },
  {
   "cell_type": "code",
   "execution_count": 8,
   "id": "2fafc694-363b-4d22-aa6e-5f3dc25ee22b",
   "metadata": {},
   "outputs": [
    {
     "data": {
      "text/html": [
       "<div>\n",
       "<style scoped>\n",
       "    .dataframe tbody tr th:only-of-type {\n",
       "        vertical-align: middle;\n",
       "    }\n",
       "\n",
       "    .dataframe tbody tr th {\n",
       "        vertical-align: top;\n",
       "    }\n",
       "\n",
       "    .dataframe thead th {\n",
       "        text-align: right;\n",
       "    }\n",
       "</style>\n",
       "<table border=\"1\" class=\"dataframe\">\n",
       "  <thead>\n",
       "    <tr style=\"text-align: right;\">\n",
       "      <th></th>\n",
       "      <th>Date</th>\n",
       "      <th>Open</th>\n",
       "      <th>High</th>\n",
       "      <th>Low</th>\n",
       "      <th>Close</th>\n",
       "      <th>Adj Close</th>\n",
       "      <th>Volume</th>\n",
       "    </tr>\n",
       "  </thead>\n",
       "  <tbody>\n",
       "    <tr>\n",
       "      <th>0</th>\n",
       "      <td>2019-05-23</td>\n",
       "      <td>37.422501</td>\n",
       "      <td>37.422501</td>\n",
       "      <td>36.227501</td>\n",
       "      <td>36.830002</td>\n",
       "      <td>36.579872</td>\n",
       "      <td>59184400</td>\n",
       "    </tr>\n",
       "    <tr>\n",
       "      <th>1</th>\n",
       "      <td>2019-05-24</td>\n",
       "      <td>37.020000</td>\n",
       "      <td>37.375000</td>\n",
       "      <td>36.220001</td>\n",
       "      <td>36.287498</td>\n",
       "      <td>36.041054</td>\n",
       "      <td>35758400</td>\n",
       "    </tr>\n",
       "    <tr>\n",
       "      <th>2</th>\n",
       "      <td>2019-05-28</td>\n",
       "      <td>36.465000</td>\n",
       "      <td>36.794998</td>\n",
       "      <td>35.812500</td>\n",
       "      <td>35.832500</td>\n",
       "      <td>35.589134</td>\n",
       "      <td>42835600</td>\n",
       "    </tr>\n",
       "    <tr>\n",
       "      <th>3</th>\n",
       "      <td>2019-05-29</td>\n",
       "      <td>35.352501</td>\n",
       "      <td>35.705002</td>\n",
       "      <td>34.735001</td>\n",
       "      <td>35.084999</td>\n",
       "      <td>34.846722</td>\n",
       "      <td>55980000</td>\n",
       "    </tr>\n",
       "    <tr>\n",
       "      <th>4</th>\n",
       "      <td>2019-05-30</td>\n",
       "      <td>35.077499</td>\n",
       "      <td>35.437500</td>\n",
       "      <td>34.392502</td>\n",
       "      <td>34.777500</td>\n",
       "      <td>34.580738</td>\n",
       "      <td>39430000</td>\n",
       "    </tr>\n",
       "  </tbody>\n",
       "</table>\n",
       "</div>"
      ],
      "text/plain": [
       "         Date       Open       High        Low      Close  Adj Close    Volume\n",
       "0  2019-05-23  37.422501  37.422501  36.227501  36.830002  36.579872  59184400\n",
       "1  2019-05-24  37.020000  37.375000  36.220001  36.287498  36.041054  35758400\n",
       "2  2019-05-28  36.465000  36.794998  35.812500  35.832500  35.589134  42835600\n",
       "3  2019-05-29  35.352501  35.705002  34.735001  35.084999  34.846722  55980000\n",
       "4  2019-05-30  35.077499  35.437500  34.392502  34.777500  34.580738  39430000"
      ]
     },
     "execution_count": 8,
     "metadata": {},
     "output_type": "execute_result"
    }
   ],
   "source": [
    "data = r'/Users/Downloads/NVDA(2).csv' # Use the path on your machine \n",
    "df_nvda_stock_data = pd.read_csv(data)\n",
    "df_nvda_stock_data.head()"
   ]
  },
  {
   "cell_type": "markdown",
   "id": "4e15f472-be78-4b08-967e-04888ae201c3",
   "metadata": {},
   "source": [
    "# Check dataframe columns"
   ]
  },
  {
   "cell_type": "code",
   "execution_count": 10,
   "id": "7024f6dc-5c83-44cb-abb1-b9e1dade8c5c",
   "metadata": {},
   "outputs": [
    {
     "data": {
      "text/plain": [
       "Index(['Date', 'Open', 'High', 'Low', 'Close', 'Adj Close', 'Volume'], dtype='object')"
      ]
     },
     "execution_count": 10,
     "metadata": {},
     "output_type": "execute_result"
    }
   ],
   "source": [
    "df_nvda_stock_data.columns"
   ]
  },
  {
   "cell_type": "markdown",
   "id": "48c4fd48-a295-453f-bdd7-a26c36d88342",
   "metadata": {},
   "source": [
    "# Create Year and Month Column"
   ]
  },
  {
   "cell_type": "code",
   "execution_count": 12,
   "id": "7078917d-f29d-437d-8714-389b41f91c27",
   "metadata": {},
   "outputs": [
    {
     "data": {
      "text/html": [
       "<div>\n",
       "<style scoped>\n",
       "    .dataframe tbody tr th:only-of-type {\n",
       "        vertical-align: middle;\n",
       "    }\n",
       "\n",
       "    .dataframe tbody tr th {\n",
       "        vertical-align: top;\n",
       "    }\n",
       "\n",
       "    .dataframe thead th {\n",
       "        text-align: right;\n",
       "    }\n",
       "</style>\n",
       "<table border=\"1\" class=\"dataframe\">\n",
       "  <thead>\n",
       "    <tr style=\"text-align: right;\">\n",
       "      <th></th>\n",
       "      <th>Date</th>\n",
       "      <th>Open</th>\n",
       "      <th>High</th>\n",
       "      <th>Low</th>\n",
       "      <th>Close</th>\n",
       "      <th>Adj Close</th>\n",
       "      <th>Volume</th>\n",
       "      <th>Year</th>\n",
       "      <th>Month</th>\n",
       "    </tr>\n",
       "  </thead>\n",
       "  <tbody>\n",
       "    <tr>\n",
       "      <th>0</th>\n",
       "      <td>2019-05-23</td>\n",
       "      <td>37.422501</td>\n",
       "      <td>37.422501</td>\n",
       "      <td>36.227501</td>\n",
       "      <td>36.830002</td>\n",
       "      <td>36.579872</td>\n",
       "      <td>59184400</td>\n",
       "      <td>2019</td>\n",
       "      <td>5</td>\n",
       "    </tr>\n",
       "    <tr>\n",
       "      <th>1</th>\n",
       "      <td>2019-05-24</td>\n",
       "      <td>37.020000</td>\n",
       "      <td>37.375000</td>\n",
       "      <td>36.220001</td>\n",
       "      <td>36.287498</td>\n",
       "      <td>36.041054</td>\n",
       "      <td>35758400</td>\n",
       "      <td>2019</td>\n",
       "      <td>5</td>\n",
       "    </tr>\n",
       "    <tr>\n",
       "      <th>2</th>\n",
       "      <td>2019-05-28</td>\n",
       "      <td>36.465000</td>\n",
       "      <td>36.794998</td>\n",
       "      <td>35.812500</td>\n",
       "      <td>35.832500</td>\n",
       "      <td>35.589134</td>\n",
       "      <td>42835600</td>\n",
       "      <td>2019</td>\n",
       "      <td>5</td>\n",
       "    </tr>\n",
       "    <tr>\n",
       "      <th>3</th>\n",
       "      <td>2019-05-29</td>\n",
       "      <td>35.352501</td>\n",
       "      <td>35.705002</td>\n",
       "      <td>34.735001</td>\n",
       "      <td>35.084999</td>\n",
       "      <td>34.846722</td>\n",
       "      <td>55980000</td>\n",
       "      <td>2019</td>\n",
       "      <td>5</td>\n",
       "    </tr>\n",
       "    <tr>\n",
       "      <th>4</th>\n",
       "      <td>2019-05-30</td>\n",
       "      <td>35.077499</td>\n",
       "      <td>35.437500</td>\n",
       "      <td>34.392502</td>\n",
       "      <td>34.777500</td>\n",
       "      <td>34.580738</td>\n",
       "      <td>39430000</td>\n",
       "      <td>2019</td>\n",
       "      <td>5</td>\n",
       "    </tr>\n",
       "  </tbody>\n",
       "</table>\n",
       "</div>"
      ],
      "text/plain": [
       "         Date       Open       High        Low      Close  Adj Close  \\\n",
       "0  2019-05-23  37.422501  37.422501  36.227501  36.830002  36.579872   \n",
       "1  2019-05-24  37.020000  37.375000  36.220001  36.287498  36.041054   \n",
       "2  2019-05-28  36.465000  36.794998  35.812500  35.832500  35.589134   \n",
       "3  2019-05-29  35.352501  35.705002  34.735001  35.084999  34.846722   \n",
       "4  2019-05-30  35.077499  35.437500  34.392502  34.777500  34.580738   \n",
       "\n",
       "     Volume  Year  Month  \n",
       "0  59184400  2019      5  \n",
       "1  35758400  2019      5  \n",
       "2  42835600  2019      5  \n",
       "3  55980000  2019      5  \n",
       "4  39430000  2019      5  "
      ]
     },
     "execution_count": 12,
     "metadata": {},
     "output_type": "execute_result"
    }
   ],
   "source": [
    "df_nvda_stock_data['Year'] = pd.to_datetime(df_nvda_stock_data['Date']).dt.year\n",
    "df_nvda_stock_data['Month'] = pd.to_datetime(df_nvda_stock_data['Date']).dt.month\n",
    "df_nvda_stock_data.head()"
   ]
  },
  {
   "cell_type": "markdown",
   "id": "52d2aa87-467d-4417-a566-4d425060fe2f",
   "metadata": {},
   "source": [
    "# Aggregate by Year and Month"
   ]
  },
  {
   "cell_type": "code",
   "execution_count": 14,
   "id": "befbad61-f4fc-4644-acdb-bb02a5f5efbd",
   "metadata": {},
   "outputs": [
    {
     "data": {
      "text/html": [
       "<div>\n",
       "<style scoped>\n",
       "    .dataframe tbody tr th:only-of-type {\n",
       "        vertical-align: middle;\n",
       "    }\n",
       "\n",
       "    .dataframe tbody tr th {\n",
       "        vertical-align: top;\n",
       "    }\n",
       "\n",
       "    .dataframe thead th {\n",
       "        text-align: right;\n",
       "    }\n",
       "</style>\n",
       "<table border=\"1\" class=\"dataframe\">\n",
       "  <thead>\n",
       "    <tr style=\"text-align: right;\">\n",
       "      <th></th>\n",
       "      <th></th>\n",
       "      <th>Date</th>\n",
       "      <th>Open</th>\n",
       "      <th>High</th>\n",
       "      <th>Low</th>\n",
       "      <th>Close</th>\n",
       "      <th>Adj Close</th>\n",
       "      <th>Volume</th>\n",
       "    </tr>\n",
       "    <tr>\n",
       "      <th>Year</th>\n",
       "      <th>Month</th>\n",
       "      <th></th>\n",
       "      <th></th>\n",
       "      <th></th>\n",
       "      <th></th>\n",
       "      <th></th>\n",
       "      <th></th>\n",
       "      <th></th>\n",
       "    </tr>\n",
       "  </thead>\n",
       "  <tbody>\n",
       "    <tr>\n",
       "      <th rowspan=\"5\" valign=\"top\">2019</th>\n",
       "      <th>5</th>\n",
       "      <td>2019-05-232019-05-242019-05-282019-05-292019-0...</td>\n",
       "      <td>215.622501</td>\n",
       "      <td>217.697503</td>\n",
       "      <td>211.235005</td>\n",
       "      <td>212.677501</td>\n",
       "      <td>211.310925</td>\n",
       "      <td>272160400</td>\n",
       "    </tr>\n",
       "    <tr>\n",
       "      <th>6</th>\n",
       "      <td>2019-06-032019-06-042019-06-052019-06-062019-0...</td>\n",
       "      <td>747.337502</td>\n",
       "      <td>758.957508</td>\n",
       "      <td>738.452504</td>\n",
       "      <td>748.342494</td>\n",
       "      <td>744.108508</td>\n",
       "      <td>823334000</td>\n",
       "    </tr>\n",
       "    <tr>\n",
       "      <th>7</th>\n",
       "      <td>2019-07-012019-07-022019-07-032019-07-052019-0...</td>\n",
       "      <td>925.384992</td>\n",
       "      <td>935.145000</td>\n",
       "      <td>912.237498</td>\n",
       "      <td>923.902508</td>\n",
       "      <td>918.675211</td>\n",
       "      <td>841598400</td>\n",
       "    </tr>\n",
       "    <tr>\n",
       "      <th>8</th>\n",
       "      <td>2019-08-012019-08-022019-08-052019-08-062019-0...</td>\n",
       "      <td>884.742499</td>\n",
       "      <td>897.354994</td>\n",
       "      <td>869.102496</td>\n",
       "      <td>882.064997</td>\n",
       "      <td>877.196427</td>\n",
       "      <td>945032800</td>\n",
       "    </tr>\n",
       "    <tr>\n",
       "      <th>9</th>\n",
       "      <td>2019-09-032019-09-042019-09-052019-09-062019-0...</td>\n",
       "      <td>884.604991</td>\n",
       "      <td>897.112503</td>\n",
       "      <td>874.512498</td>\n",
       "      <td>886.300001</td>\n",
       "      <td>882.157840</td>\n",
       "      <td>634776800</td>\n",
       "    </tr>\n",
       "  </tbody>\n",
       "</table>\n",
       "</div>"
      ],
      "text/plain": [
       "                                                         Date        Open  \\\n",
       "Year Month                                                                  \n",
       "2019 5      2019-05-232019-05-242019-05-282019-05-292019-0...  215.622501   \n",
       "     6      2019-06-032019-06-042019-06-052019-06-062019-0...  747.337502   \n",
       "     7      2019-07-012019-07-022019-07-032019-07-052019-0...  925.384992   \n",
       "     8      2019-08-012019-08-022019-08-052019-08-062019-0...  884.742499   \n",
       "     9      2019-09-032019-09-042019-09-052019-09-062019-0...  884.604991   \n",
       "\n",
       "                  High         Low       Close   Adj Close     Volume  \n",
       "Year Month                                                             \n",
       "2019 5      217.697503  211.235005  212.677501  211.310925  272160400  \n",
       "     6      758.957508  738.452504  748.342494  744.108508  823334000  \n",
       "     7      935.145000  912.237498  923.902508  918.675211  841598400  \n",
       "     8      897.354994  869.102496  882.064997  877.196427  945032800  \n",
       "     9      897.112503  874.512498  886.300001  882.157840  634776800  "
      ]
     },
     "execution_count": 14,
     "metadata": {},
     "output_type": "execute_result"
    }
   ],
   "source": [
    "df_nvda_stock_data_agg = df_nvda_stock_data.groupby(['Year', 'Month']).sum()\n",
    "df_nvda_stock_data_agg.head()"
   ]
  },
  {
   "cell_type": "markdown",
   "id": "5ea24c9d-135f-483c-898e-b717732ecf5a",
   "metadata": {},
   "source": [
    "# Check the columns"
   ]
  },
  {
   "cell_type": "code",
   "execution_count": 16,
   "id": "46c2e719-108d-439e-9a49-bcd6da8b323a",
   "metadata": {},
   "outputs": [
    {
     "data": {
      "text/plain": [
       "Index(['Date', 'Open', 'High', 'Low', 'Close', 'Adj Close', 'Volume'], dtype='object')"
      ]
     },
     "execution_count": 16,
     "metadata": {},
     "output_type": "execute_result"
    }
   ],
   "source": [
    "df_nvda_stock_data_agg.columns"
   ]
  },
  {
   "cell_type": "markdown",
   "id": "ac9b105c-b895-4237-9b24-c833a8134097",
   "metadata": {},
   "source": [
    "# Modify Date Column for plotting\n",
    "### Note: You can also create a new column instead of modifying if you need to retain original date column data"
   ]
  },
  {
   "cell_type": "code",
   "execution_count": 18,
   "id": "764ac627-faee-4ce1-9857-6ea9bef8c9be",
   "metadata": {},
   "outputs": [
    {
     "data": {
      "text/html": [
       "<div>\n",
       "<style scoped>\n",
       "    .dataframe tbody tr th:only-of-type {\n",
       "        vertical-align: middle;\n",
       "    }\n",
       "\n",
       "    .dataframe tbody tr th {\n",
       "        vertical-align: top;\n",
       "    }\n",
       "\n",
       "    .dataframe thead th {\n",
       "        text-align: right;\n",
       "    }\n",
       "</style>\n",
       "<table border=\"1\" class=\"dataframe\">\n",
       "  <thead>\n",
       "    <tr style=\"text-align: right;\">\n",
       "      <th></th>\n",
       "      <th>Year</th>\n",
       "      <th>Month</th>\n",
       "      <th>Date</th>\n",
       "      <th>Open</th>\n",
       "      <th>High</th>\n",
       "      <th>Low</th>\n",
       "      <th>Close</th>\n",
       "      <th>Adj Close</th>\n",
       "      <th>Volume</th>\n",
       "    </tr>\n",
       "  </thead>\n",
       "  <tbody>\n",
       "    <tr>\n",
       "      <th>0</th>\n",
       "      <td>2019</td>\n",
       "      <td>5</td>\n",
       "      <td>05-2019</td>\n",
       "      <td>215.622501</td>\n",
       "      <td>217.697503</td>\n",
       "      <td>211.235005</td>\n",
       "      <td>212.677501</td>\n",
       "      <td>211.310925</td>\n",
       "      <td>272160400</td>\n",
       "    </tr>\n",
       "    <tr>\n",
       "      <th>1</th>\n",
       "      <td>2019</td>\n",
       "      <td>6</td>\n",
       "      <td>06-2019</td>\n",
       "      <td>747.337502</td>\n",
       "      <td>758.957508</td>\n",
       "      <td>738.452504</td>\n",
       "      <td>748.342494</td>\n",
       "      <td>744.108508</td>\n",
       "      <td>823334000</td>\n",
       "    </tr>\n",
       "    <tr>\n",
       "      <th>2</th>\n",
       "      <td>2019</td>\n",
       "      <td>7</td>\n",
       "      <td>07-2019</td>\n",
       "      <td>925.384992</td>\n",
       "      <td>935.145000</td>\n",
       "      <td>912.237498</td>\n",
       "      <td>923.902508</td>\n",
       "      <td>918.675211</td>\n",
       "      <td>841598400</td>\n",
       "    </tr>\n",
       "    <tr>\n",
       "      <th>3</th>\n",
       "      <td>2019</td>\n",
       "      <td>8</td>\n",
       "      <td>08-2019</td>\n",
       "      <td>884.742499</td>\n",
       "      <td>897.354994</td>\n",
       "      <td>869.102496</td>\n",
       "      <td>882.064997</td>\n",
       "      <td>877.196427</td>\n",
       "      <td>945032800</td>\n",
       "    </tr>\n",
       "    <tr>\n",
       "      <th>4</th>\n",
       "      <td>2019</td>\n",
       "      <td>9</td>\n",
       "      <td>09-2019</td>\n",
       "      <td>884.604991</td>\n",
       "      <td>897.112503</td>\n",
       "      <td>874.512498</td>\n",
       "      <td>886.300001</td>\n",
       "      <td>882.157840</td>\n",
       "      <td>634776800</td>\n",
       "    </tr>\n",
       "  </tbody>\n",
       "</table>\n",
       "</div>"
      ],
      "text/plain": [
       "   Year  Month     Date        Open        High         Low       Close  \\\n",
       "0  2019      5  05-2019  215.622501  217.697503  211.235005  212.677501   \n",
       "1  2019      6  06-2019  747.337502  758.957508  738.452504  748.342494   \n",
       "2  2019      7  07-2019  925.384992  935.145000  912.237498  923.902508   \n",
       "3  2019      8  08-2019  884.742499  897.354994  869.102496  882.064997   \n",
       "4  2019      9  09-2019  884.604991  897.112503  874.512498  886.300001   \n",
       "\n",
       "    Adj Close     Volume  \n",
       "0  211.310925  272160400  \n",
       "1  744.108508  823334000  \n",
       "2  918.675211  841598400  \n",
       "3  877.196427  945032800  \n",
       "4  882.157840  634776800  "
      ]
     },
     "execution_count": 18,
     "metadata": {},
     "output_type": "execute_result"
    }
   ],
   "source": [
    "df_nvda_stock_data_agg = df_nvda_stock_data_agg.reset_index()\n",
    "df_nvda_stock_data_agg['Date'] = df_nvda_stock_data_agg['Month'].map(str)+ '-' +df_nvda_stock_data_agg['Year'].map(str)\n",
    "df_nvda_stock_data_agg['Date'] = pd.to_datetime(df_nvda_stock_data_agg['Date'], format='%m-%Y').dt.strftime('%m-%Y')\n",
    "df_nvda_stock_data_agg.head()"
   ]
  },
  {
   "cell_type": "markdown",
   "id": "f70e8407-e2e1-4973-9b40-30e8295d5be7",
   "metadata": {},
   "source": [
    "# Select rows and columns for plotting"
   ]
  },
  {
   "cell_type": "code",
   "execution_count": 20,
   "id": "7f824192-6e46-4b9a-9d8c-24fc1ba3ea53",
   "metadata": {},
   "outputs": [
    {
     "data": {
      "text/html": [
       "<div>\n",
       "<style scoped>\n",
       "    .dataframe tbody tr th:only-of-type {\n",
       "        vertical-align: middle;\n",
       "    }\n",
       "\n",
       "    .dataframe tbody tr th {\n",
       "        vertical-align: top;\n",
       "    }\n",
       "\n",
       "    .dataframe thead th {\n",
       "        text-align: right;\n",
       "    }\n",
       "</style>\n",
       "<table border=\"1\" class=\"dataframe\">\n",
       "  <thead>\n",
       "    <tr style=\"text-align: right;\">\n",
       "      <th></th>\n",
       "      <th>Date</th>\n",
       "      <th>Close</th>\n",
       "    </tr>\n",
       "  </thead>\n",
       "  <tbody>\n",
       "    <tr>\n",
       "      <th>0</th>\n",
       "      <td>05-2019</td>\n",
       "      <td>212.677501</td>\n",
       "    </tr>\n",
       "    <tr>\n",
       "      <th>1</th>\n",
       "      <td>06-2019</td>\n",
       "      <td>748.342494</td>\n",
       "    </tr>\n",
       "    <tr>\n",
       "      <th>2</th>\n",
       "      <td>07-2019</td>\n",
       "      <td>923.902508</td>\n",
       "    </tr>\n",
       "    <tr>\n",
       "      <th>3</th>\n",
       "      <td>08-2019</td>\n",
       "      <td>882.064997</td>\n",
       "    </tr>\n",
       "    <tr>\n",
       "      <th>4</th>\n",
       "      <td>09-2019</td>\n",
       "      <td>886.300001</td>\n",
       "    </tr>\n",
       "  </tbody>\n",
       "</table>\n",
       "</div>"
      ],
      "text/plain": [
       "      Date       Close\n",
       "0  05-2019  212.677501\n",
       "1  06-2019  748.342494\n",
       "2  07-2019  923.902508\n",
       "3  08-2019  882.064997\n",
       "4  09-2019  886.300001"
      ]
     },
     "execution_count": 20,
     "metadata": {},
     "output_type": "execute_result"
    }
   ],
   "source": [
    "y_axis = df_nvda_stock_data_agg.iloc[:,[2, 6]]\n",
    "y_axis.head()"
   ]
  },
  {
   "cell_type": "markdown",
   "id": "45d46ba2-a6a7-4499-9b0a-a6a3d8be020b",
   "metadata": {},
   "source": [
    "# Final Analysis"
   ]
  },
  {
   "cell_type": "code",
   "execution_count": 21,
   "id": "d86ef675-f334-4b40-a889-b7bc054cb03c",
   "metadata": {},
   "outputs": [
    {
     "data": {
      "text/plain": [
       "<Axes: xlabel='Date'>"
      ]
     },
     "execution_count": 21,
     "metadata": {},
     "output_type": "execute_result"
    },
    {
     "data": {
      "image/png": "[encoded data removed]",
      "text/plain": [
       "<Figure size 640x480 with 1 Axes>"
      ]
     },
     "metadata": {},
     "output_type": "display_data"
    }
   ],
   "source": [
    "analysis = y_axis.reset_index().plot(x='Date', y='Close'\n",
    "                                 , color = 'b', marker = '*'\n",
    "                  , linestyle = '--'\n",
    "                  , url = 'www.devtechie.com'\n",
    "                  , visible = True\n",
    "                  #, animated = False\n",
    "                  , drawstyle = 'steps-mid'\n",
    "                  , gapcolor = 'r'\n",
    "                  , linewidth = 3\n",
    "                  #, clip_on = False\n",
    "                  , dash_capstyle = 'round'\n",
    "                  , fillstyle = 'full'\n",
    "                  , markeredgecolor = 'y'\n",
    "                  , markeredgewidth = 3\n",
    "                  , markerfacecolor = 'g'\n",
    "                  , markersize = 10\n",
    "                  , markevery = 12\n",
    "                  , mouseover = False )\n",
    "analysis"
   ]
  },
  {
   "cell_type": "code",
   "execution_count": null,
   "id": "a3687d27-c211-4b90-9db5-cdc64ced709c",
   "metadata": {},
   "outputs": [],
   "source": []
  }
 ],
 "metadata": {
  "kernelspec": {
   "display_name": "Python 3 (ipykernel)",
   "language": "python",
   "name": "python3"
  },
  "language_info": {
   "codemirror_mode": {
    "name": "ipython",
    "version": 3
   },
   "file_extension": ".py",
   "mimetype": "text/x-python",
   "name": "python",
   "nbconvert_exporter": "python",
   "pygments_lexer": "ipython3",
   "version": "3.12.4"
  }
 },
 "nbformat": 4,
 "nbformat_minor": 5
}
